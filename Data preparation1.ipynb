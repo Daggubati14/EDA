{
 "cells": [
  {
   "cell_type": "code",
   "execution_count": 1,
   "metadata": {},
   "outputs": [],
   "source": [
    "import os\n",
    "import numpy as np\n",
    "import pandas as pd\n",
    "import matplotlib.pyplot as plt"
   ]
  },
  {
   "cell_type": "markdown",
   "metadata": {},
   "source": [
    "Importing all required libraries "
   ]
  },
  {
   "cell_type": "code",
   "execution_count": 2,
   "metadata": {},
   "outputs": [
    {
     "data": {
      "text/plain": [
       "'C:\\\\Users\\\\admin\\\\Mojotics\\\\EDA'"
      ]
     },
     "execution_count": 2,
     "metadata": {},
     "output_type": "execute_result"
    }
   ],
   "source": [
    "os.getcwd()"
   ]
  },
  {
   "cell_type": "code",
   "execution_count": 3,
   "metadata": {},
   "outputs": [],
   "source": [
    "os.chdir('E:\\\\data science\\\\Mojotics\\\\Guide\\\\C7\\\\Statistics\\\\Topic 2 - Logistics Regression')"
   ]
  },
  {
   "cell_type": "markdown",
   "metadata": {},
   "source": [
    "Reading data"
   ]
  },
  {
   "cell_type": "code",
   "execution_count": 4,
   "metadata": {},
   "outputs": [],
   "source": [
    "Odata = pd.read_csv('GermanCredit.csv')"
   ]
  },
  {
   "cell_type": "markdown",
   "metadata": {},
   "source": [
    "Sanity checks"
   ]
  },
  {
   "cell_type": "code",
   "execution_count": 5,
   "metadata": {},
   "outputs": [
    {
     "name": "stdout",
     "output_type": "stream",
     "text": [
      "<class 'pandas.core.frame.DataFrame'>\n",
      "RangeIndex: 1000 entries, 0 to 999\n",
      "Data columns (total 62 columns):\n",
      "Duration                                  1000 non-null int64\n",
      "Amount                                    1000 non-null int64\n",
      "InstallmentRatePercentage                 1000 non-null int64\n",
      "ResidenceDuration                         1000 non-null int64\n",
      "Age                                       1000 non-null int64\n",
      "NumberExistingCredits                     1000 non-null int64\n",
      "NumberPeopleMaintenance                   1000 non-null int64\n",
      "Telephone                                 1000 non-null int64\n",
      "ForeignWorker                             1000 non-null int64\n",
      "Class                                     1000 non-null object\n",
      "CheckingAccountStatus.lt.0                1000 non-null int64\n",
      "CheckingAccountStatus.0.to.200            1000 non-null int64\n",
      "CheckingAccountStatus.gt.200              1000 non-null int64\n",
      "CheckingAccountStatus.none                1000 non-null int64\n",
      "CreditHistory.NoCredit.AllPaid            1000 non-null int64\n",
      "CreditHistory.ThisBank.AllPaid            1000 non-null int64\n",
      "CreditHistory.PaidDuly                    1000 non-null int64\n",
      "CreditHistory.Delay                       1000 non-null int64\n",
      "CreditHistory.Critical                    1000 non-null int64\n",
      "Purpose.NewCar                            1000 non-null int64\n",
      "Purpose.UsedCar                           1000 non-null int64\n",
      "Purpose.Furniture.Equipment               1000 non-null int64\n",
      "Purpose.Radio.Television                  1000 non-null int64\n",
      "Purpose.DomesticAppliance                 1000 non-null int64\n",
      "Purpose.Repairs                           1000 non-null int64\n",
      "Purpose.Education                         1000 non-null int64\n",
      "Purpose.Vacation                          1000 non-null int64\n",
      "Purpose.Retraining                        1000 non-null int64\n",
      "Purpose.Business                          1000 non-null int64\n",
      "Purpose.Other                             1000 non-null int64\n",
      "SavingsAccountBonds.lt.100                1000 non-null int64\n",
      "SavingsAccountBonds.100.to.500            1000 non-null int64\n",
      "SavingsAccountBonds.500.to.1000           1000 non-null int64\n",
      "SavingsAccountBonds.gt.1000               1000 non-null int64\n",
      "SavingsAccountBonds.Unknown               1000 non-null int64\n",
      "EmploymentDuration.lt.1                   1000 non-null int64\n",
      "EmploymentDuration.1.to.4                 1000 non-null int64\n",
      "EmploymentDuration.4.to.7                 1000 non-null int64\n",
      "EmploymentDuration.gt.7                   1000 non-null int64\n",
      "EmploymentDuration.Unemployed             1000 non-null int64\n",
      "Personal.Male.Divorced.Seperated          1000 non-null int64\n",
      "Personal.Female.NotSingle                 1000 non-null int64\n",
      "Personal.Male.Single                      1000 non-null int64\n",
      "Personal.Male.Married.Widowed             1000 non-null int64\n",
      "Personal.Female.Single                    1000 non-null int64\n",
      "OtherDebtorsGuarantors.None               1000 non-null int64\n",
      "OtherDebtorsGuarantors.CoApplicant        1000 non-null int64\n",
      "OtherDebtorsGuarantors.Guarantor          1000 non-null int64\n",
      "Property.RealEstate                       1000 non-null int64\n",
      "Property.Insurance                        1000 non-null int64\n",
      "Property.CarOther                         1000 non-null int64\n",
      "Property.Unknown                          1000 non-null int64\n",
      "OtherInstallmentPlans.Bank                1000 non-null int64\n",
      "OtherInstallmentPlans.Stores              1000 non-null int64\n",
      "OtherInstallmentPlans.None                1000 non-null int64\n",
      "Housing.Rent                              1000 non-null int64\n",
      "Housing.Own                               1000 non-null int64\n",
      "Housing.ForFree                           1000 non-null int64\n",
      "Job.UnemployedUnskilled                   1000 non-null int64\n",
      "Job.UnskilledResident                     1000 non-null int64\n",
      "Job.SkilledEmployee                       1000 non-null int64\n",
      "Job.Management.SelfEmp.HighlyQualified    1000 non-null int64\n",
      "dtypes: int64(61), object(1)\n",
      "memory usage: 484.5+ KB\n"
     ]
    }
   ],
   "source": [
    "Odata.info()"
   ]
  },
  {
   "cell_type": "markdown",
   "metadata": {},
   "source": [
    "###### By looking above results other than class variable everything is in numerical format only and we don't have any null values in the data"
   ]
  },
  {
   "cell_type": "code",
   "execution_count": 6,
   "metadata": {},
   "outputs": [
    {
     "data": {
      "text/plain": [
       "(1000, 62)"
      ]
     },
     "execution_count": 6,
     "metadata": {},
     "output_type": "execute_result"
    }
   ],
   "source": [
    "Odata.shape"
   ]
  },
  {
   "cell_type": "code",
   "execution_count": 7,
   "metadata": {},
   "outputs": [
    {
     "data": {
      "text/html": [
       "<div>\n",
       "<style scoped>\n",
       "    .dataframe tbody tr th:only-of-type {\n",
       "        vertical-align: middle;\n",
       "    }\n",
       "\n",
       "    .dataframe tbody tr th {\n",
       "        vertical-align: top;\n",
       "    }\n",
       "\n",
       "    .dataframe thead th {\n",
       "        text-align: right;\n",
       "    }\n",
       "</style>\n",
       "<table border=\"1\" class=\"dataframe\">\n",
       "  <thead>\n",
       "    <tr style=\"text-align: right;\">\n",
       "      <th></th>\n",
       "      <th>Duration</th>\n",
       "      <th>Amount</th>\n",
       "      <th>InstallmentRatePercentage</th>\n",
       "      <th>ResidenceDuration</th>\n",
       "      <th>Age</th>\n",
       "      <th>NumberExistingCredits</th>\n",
       "      <th>NumberPeopleMaintenance</th>\n",
       "      <th>Telephone</th>\n",
       "      <th>ForeignWorker</th>\n",
       "      <th>Class</th>\n",
       "      <th>...</th>\n",
       "      <th>OtherInstallmentPlans.Bank</th>\n",
       "      <th>OtherInstallmentPlans.Stores</th>\n",
       "      <th>OtherInstallmentPlans.None</th>\n",
       "      <th>Housing.Rent</th>\n",
       "      <th>Housing.Own</th>\n",
       "      <th>Housing.ForFree</th>\n",
       "      <th>Job.UnemployedUnskilled</th>\n",
       "      <th>Job.UnskilledResident</th>\n",
       "      <th>Job.SkilledEmployee</th>\n",
       "      <th>Job.Management.SelfEmp.HighlyQualified</th>\n",
       "    </tr>\n",
       "  </thead>\n",
       "  <tbody>\n",
       "    <tr>\n",
       "      <th>0</th>\n",
       "      <td>6</td>\n",
       "      <td>1169</td>\n",
       "      <td>4</td>\n",
       "      <td>4</td>\n",
       "      <td>67</td>\n",
       "      <td>2</td>\n",
       "      <td>1</td>\n",
       "      <td>0</td>\n",
       "      <td>1</td>\n",
       "      <td>Good</td>\n",
       "      <td>...</td>\n",
       "      <td>0</td>\n",
       "      <td>0</td>\n",
       "      <td>1</td>\n",
       "      <td>0</td>\n",
       "      <td>1</td>\n",
       "      <td>0</td>\n",
       "      <td>0</td>\n",
       "      <td>0</td>\n",
       "      <td>1</td>\n",
       "      <td>0</td>\n",
       "    </tr>\n",
       "    <tr>\n",
       "      <th>1</th>\n",
       "      <td>48</td>\n",
       "      <td>5951</td>\n",
       "      <td>2</td>\n",
       "      <td>2</td>\n",
       "      <td>22</td>\n",
       "      <td>1</td>\n",
       "      <td>1</td>\n",
       "      <td>1</td>\n",
       "      <td>1</td>\n",
       "      <td>Bad</td>\n",
       "      <td>...</td>\n",
       "      <td>0</td>\n",
       "      <td>0</td>\n",
       "      <td>1</td>\n",
       "      <td>0</td>\n",
       "      <td>1</td>\n",
       "      <td>0</td>\n",
       "      <td>0</td>\n",
       "      <td>0</td>\n",
       "      <td>1</td>\n",
       "      <td>0</td>\n",
       "    </tr>\n",
       "    <tr>\n",
       "      <th>2</th>\n",
       "      <td>12</td>\n",
       "      <td>2096</td>\n",
       "      <td>2</td>\n",
       "      <td>3</td>\n",
       "      <td>49</td>\n",
       "      <td>1</td>\n",
       "      <td>2</td>\n",
       "      <td>1</td>\n",
       "      <td>1</td>\n",
       "      <td>Good</td>\n",
       "      <td>...</td>\n",
       "      <td>0</td>\n",
       "      <td>0</td>\n",
       "      <td>1</td>\n",
       "      <td>0</td>\n",
       "      <td>1</td>\n",
       "      <td>0</td>\n",
       "      <td>0</td>\n",
       "      <td>1</td>\n",
       "      <td>0</td>\n",
       "      <td>0</td>\n",
       "    </tr>\n",
       "    <tr>\n",
       "      <th>3</th>\n",
       "      <td>42</td>\n",
       "      <td>7882</td>\n",
       "      <td>2</td>\n",
       "      <td>4</td>\n",
       "      <td>45</td>\n",
       "      <td>1</td>\n",
       "      <td>2</td>\n",
       "      <td>1</td>\n",
       "      <td>1</td>\n",
       "      <td>Good</td>\n",
       "      <td>...</td>\n",
       "      <td>0</td>\n",
       "      <td>0</td>\n",
       "      <td>1</td>\n",
       "      <td>0</td>\n",
       "      <td>0</td>\n",
       "      <td>1</td>\n",
       "      <td>0</td>\n",
       "      <td>0</td>\n",
       "      <td>1</td>\n",
       "      <td>0</td>\n",
       "    </tr>\n",
       "    <tr>\n",
       "      <th>4</th>\n",
       "      <td>24</td>\n",
       "      <td>4870</td>\n",
       "      <td>3</td>\n",
       "      <td>4</td>\n",
       "      <td>53</td>\n",
       "      <td>2</td>\n",
       "      <td>2</td>\n",
       "      <td>1</td>\n",
       "      <td>1</td>\n",
       "      <td>Bad</td>\n",
       "      <td>...</td>\n",
       "      <td>0</td>\n",
       "      <td>0</td>\n",
       "      <td>1</td>\n",
       "      <td>0</td>\n",
       "      <td>0</td>\n",
       "      <td>1</td>\n",
       "      <td>0</td>\n",
       "      <td>0</td>\n",
       "      <td>1</td>\n",
       "      <td>0</td>\n",
       "    </tr>\n",
       "  </tbody>\n",
       "</table>\n",
       "<p>5 rows × 62 columns</p>\n",
       "</div>"
      ],
      "text/plain": [
       "   Duration  Amount  InstallmentRatePercentage  ResidenceDuration  Age  \\\n",
       "0         6    1169                          4                  4   67   \n",
       "1        48    5951                          2                  2   22   \n",
       "2        12    2096                          2                  3   49   \n",
       "3        42    7882                          2                  4   45   \n",
       "4        24    4870                          3                  4   53   \n",
       "\n",
       "   NumberExistingCredits  NumberPeopleMaintenance  Telephone  ForeignWorker  \\\n",
       "0                      2                        1          0              1   \n",
       "1                      1                        1          1              1   \n",
       "2                      1                        2          1              1   \n",
       "3                      1                        2          1              1   \n",
       "4                      2                        2          1              1   \n",
       "\n",
       "  Class  ...  OtherInstallmentPlans.Bank  OtherInstallmentPlans.Stores  \\\n",
       "0  Good  ...                           0                             0   \n",
       "1   Bad  ...                           0                             0   \n",
       "2  Good  ...                           0                             0   \n",
       "3  Good  ...                           0                             0   \n",
       "4   Bad  ...                           0                             0   \n",
       "\n",
       "   OtherInstallmentPlans.None  Housing.Rent  Housing.Own  Housing.ForFree  \\\n",
       "0                           1             0            1                0   \n",
       "1                           1             0            1                0   \n",
       "2                           1             0            1                0   \n",
       "3                           1             0            0                1   \n",
       "4                           1             0            0                1   \n",
       "\n",
       "   Job.UnemployedUnskilled  Job.UnskilledResident  Job.SkilledEmployee  \\\n",
       "0                        0                      0                    1   \n",
       "1                        0                      0                    1   \n",
       "2                        0                      1                    0   \n",
       "3                        0                      0                    1   \n",
       "4                        0                      0                    1   \n",
       "\n",
       "   Job.Management.SelfEmp.HighlyQualified  \n",
       "0                                       0  \n",
       "1                                       0  \n",
       "2                                       0  \n",
       "3                                       0  \n",
       "4                                       0  \n",
       "\n",
       "[5 rows x 62 columns]"
      ]
     },
     "execution_count": 7,
     "metadata": {},
     "output_type": "execute_result"
    }
   ],
   "source": [
    "Odata.head()"
   ]
  },
  {
   "cell_type": "markdown",
   "metadata": {},
   "source": [
    "###### If we observe data e have so many categorical variables in our data. We will combine those columns and try to find patterns."
   ]
  },
  {
   "cell_type": "code",
   "execution_count": 8,
   "metadata": {},
   "outputs": [
    {
     "data": {
      "text/plain": [
       "['Duration',\n",
       " 'Amount',\n",
       " 'InstallmentRatePercentage',\n",
       " 'ResidenceDuration',\n",
       " 'Age',\n",
       " 'NumberExistingCredits',\n",
       " 'NumberPeopleMaintenance',\n",
       " 'Telephone',\n",
       " 'ForeignWorker',\n",
       " 'Class',\n",
       " 'CheckingAccountStatus.lt.0',\n",
       " 'CheckingAccountStatus.0.to.200',\n",
       " 'CheckingAccountStatus.gt.200',\n",
       " 'CheckingAccountStatus.none',\n",
       " 'CreditHistory.NoCredit.AllPaid',\n",
       " 'CreditHistory.ThisBank.AllPaid',\n",
       " 'CreditHistory.PaidDuly',\n",
       " 'CreditHistory.Delay',\n",
       " 'CreditHistory.Critical',\n",
       " 'Purpose.NewCar',\n",
       " 'Purpose.UsedCar',\n",
       " 'Purpose.Furniture.Equipment',\n",
       " 'Purpose.Radio.Television',\n",
       " 'Purpose.DomesticAppliance',\n",
       " 'Purpose.Repairs',\n",
       " 'Purpose.Education',\n",
       " 'Purpose.Vacation',\n",
       " 'Purpose.Retraining',\n",
       " 'Purpose.Business',\n",
       " 'Purpose.Other',\n",
       " 'SavingsAccountBonds.lt.100',\n",
       " 'SavingsAccountBonds.100.to.500',\n",
       " 'SavingsAccountBonds.500.to.1000',\n",
       " 'SavingsAccountBonds.gt.1000',\n",
       " 'SavingsAccountBonds.Unknown',\n",
       " 'EmploymentDuration.lt.1',\n",
       " 'EmploymentDuration.1.to.4',\n",
       " 'EmploymentDuration.4.to.7',\n",
       " 'EmploymentDuration.gt.7',\n",
       " 'EmploymentDuration.Unemployed',\n",
       " 'Personal.Male.Divorced.Seperated',\n",
       " 'Personal.Female.NotSingle',\n",
       " 'Personal.Male.Single',\n",
       " 'Personal.Male.Married.Widowed',\n",
       " 'Personal.Female.Single',\n",
       " 'OtherDebtorsGuarantors.None',\n",
       " 'OtherDebtorsGuarantors.CoApplicant',\n",
       " 'OtherDebtorsGuarantors.Guarantor',\n",
       " 'Property.RealEstate',\n",
       " 'Property.Insurance',\n",
       " 'Property.CarOther',\n",
       " 'Property.Unknown',\n",
       " 'OtherInstallmentPlans.Bank',\n",
       " 'OtherInstallmentPlans.Stores',\n",
       " 'OtherInstallmentPlans.None',\n",
       " 'Housing.Rent',\n",
       " 'Housing.Own',\n",
       " 'Housing.ForFree',\n",
       " 'Job.UnemployedUnskilled',\n",
       " 'Job.UnskilledResident',\n",
       " 'Job.SkilledEmployee',\n",
       " 'Job.Management.SelfEmp.HighlyQualified']"
      ]
     },
     "execution_count": 8,
     "metadata": {},
     "output_type": "execute_result"
    }
   ],
   "source": [
    "list(Odata)"
   ]
  },
  {
   "cell_type": "code",
   "execution_count": 9,
   "metadata": {},
   "outputs": [],
   "source": [
    "data = Odata.copy()"
   ]
  },
  {
   "cell_type": "code",
   "execution_count": 10,
   "metadata": {},
   "outputs": [
    {
     "data": {
      "text/html": [
       "<div>\n",
       "<style scoped>\n",
       "    .dataframe tbody tr th:only-of-type {\n",
       "        vertical-align: middle;\n",
       "    }\n",
       "\n",
       "    .dataframe tbody tr th {\n",
       "        vertical-align: top;\n",
       "    }\n",
       "\n",
       "    .dataframe thead th {\n",
       "        text-align: right;\n",
       "    }\n",
       "</style>\n",
       "<table border=\"1\" class=\"dataframe\">\n",
       "  <thead>\n",
       "    <tr style=\"text-align: right;\">\n",
       "      <th></th>\n",
       "      <th>Duration</th>\n",
       "      <th>Amount</th>\n",
       "      <th>InstallmentRatePercentage</th>\n",
       "      <th>ResidenceDuration</th>\n",
       "      <th>Age</th>\n",
       "      <th>NumberExistingCredits</th>\n",
       "      <th>NumberPeopleMaintenance</th>\n",
       "      <th>Telephone</th>\n",
       "      <th>ForeignWorker</th>\n",
       "      <th>Class</th>\n",
       "      <th>...</th>\n",
       "      <th>OtherInstallmentPlans.Bank</th>\n",
       "      <th>OtherInstallmentPlans.Stores</th>\n",
       "      <th>OtherInstallmentPlans.None</th>\n",
       "      <th>Housing.Rent</th>\n",
       "      <th>Housing.Own</th>\n",
       "      <th>Housing.ForFree</th>\n",
       "      <th>Job.UnemployedUnskilled</th>\n",
       "      <th>Job.UnskilledResident</th>\n",
       "      <th>Job.SkilledEmployee</th>\n",
       "      <th>Job.Management.SelfEmp.HighlyQualified</th>\n",
       "    </tr>\n",
       "  </thead>\n",
       "  <tbody>\n",
       "    <tr>\n",
       "      <th>0</th>\n",
       "      <td>6</td>\n",
       "      <td>1169</td>\n",
       "      <td>4</td>\n",
       "      <td>4</td>\n",
       "      <td>67</td>\n",
       "      <td>2</td>\n",
       "      <td>1</td>\n",
       "      <td>0</td>\n",
       "      <td>1</td>\n",
       "      <td>Good</td>\n",
       "      <td>...</td>\n",
       "      <td>0</td>\n",
       "      <td>0</td>\n",
       "      <td>1</td>\n",
       "      <td>0</td>\n",
       "      <td>1</td>\n",
       "      <td>0</td>\n",
       "      <td>0</td>\n",
       "      <td>0</td>\n",
       "      <td>1</td>\n",
       "      <td>0</td>\n",
       "    </tr>\n",
       "    <tr>\n",
       "      <th>1</th>\n",
       "      <td>48</td>\n",
       "      <td>5951</td>\n",
       "      <td>2</td>\n",
       "      <td>2</td>\n",
       "      <td>22</td>\n",
       "      <td>1</td>\n",
       "      <td>1</td>\n",
       "      <td>1</td>\n",
       "      <td>1</td>\n",
       "      <td>Bad</td>\n",
       "      <td>...</td>\n",
       "      <td>0</td>\n",
       "      <td>0</td>\n",
       "      <td>1</td>\n",
       "      <td>0</td>\n",
       "      <td>1</td>\n",
       "      <td>0</td>\n",
       "      <td>0</td>\n",
       "      <td>0</td>\n",
       "      <td>1</td>\n",
       "      <td>0</td>\n",
       "    </tr>\n",
       "    <tr>\n",
       "      <th>2</th>\n",
       "      <td>12</td>\n",
       "      <td>2096</td>\n",
       "      <td>2</td>\n",
       "      <td>3</td>\n",
       "      <td>49</td>\n",
       "      <td>1</td>\n",
       "      <td>2</td>\n",
       "      <td>1</td>\n",
       "      <td>1</td>\n",
       "      <td>Good</td>\n",
       "      <td>...</td>\n",
       "      <td>0</td>\n",
       "      <td>0</td>\n",
       "      <td>1</td>\n",
       "      <td>0</td>\n",
       "      <td>1</td>\n",
       "      <td>0</td>\n",
       "      <td>0</td>\n",
       "      <td>1</td>\n",
       "      <td>0</td>\n",
       "      <td>0</td>\n",
       "    </tr>\n",
       "    <tr>\n",
       "      <th>3</th>\n",
       "      <td>42</td>\n",
       "      <td>7882</td>\n",
       "      <td>2</td>\n",
       "      <td>4</td>\n",
       "      <td>45</td>\n",
       "      <td>1</td>\n",
       "      <td>2</td>\n",
       "      <td>1</td>\n",
       "      <td>1</td>\n",
       "      <td>Good</td>\n",
       "      <td>...</td>\n",
       "      <td>0</td>\n",
       "      <td>0</td>\n",
       "      <td>1</td>\n",
       "      <td>0</td>\n",
       "      <td>0</td>\n",
       "      <td>1</td>\n",
       "      <td>0</td>\n",
       "      <td>0</td>\n",
       "      <td>1</td>\n",
       "      <td>0</td>\n",
       "    </tr>\n",
       "    <tr>\n",
       "      <th>4</th>\n",
       "      <td>24</td>\n",
       "      <td>4870</td>\n",
       "      <td>3</td>\n",
       "      <td>4</td>\n",
       "      <td>53</td>\n",
       "      <td>2</td>\n",
       "      <td>2</td>\n",
       "      <td>1</td>\n",
       "      <td>1</td>\n",
       "      <td>Bad</td>\n",
       "      <td>...</td>\n",
       "      <td>0</td>\n",
       "      <td>0</td>\n",
       "      <td>1</td>\n",
       "      <td>0</td>\n",
       "      <td>0</td>\n",
       "      <td>1</td>\n",
       "      <td>0</td>\n",
       "      <td>0</td>\n",
       "      <td>1</td>\n",
       "      <td>0</td>\n",
       "    </tr>\n",
       "  </tbody>\n",
       "</table>\n",
       "<p>5 rows × 62 columns</p>\n",
       "</div>"
      ],
      "text/plain": [
       "   Duration  Amount  InstallmentRatePercentage  ResidenceDuration  Age  \\\n",
       "0         6    1169                          4                  4   67   \n",
       "1        48    5951                          2                  2   22   \n",
       "2        12    2096                          2                  3   49   \n",
       "3        42    7882                          2                  4   45   \n",
       "4        24    4870                          3                  4   53   \n",
       "\n",
       "   NumberExistingCredits  NumberPeopleMaintenance  Telephone  ForeignWorker  \\\n",
       "0                      2                        1          0              1   \n",
       "1                      1                        1          1              1   \n",
       "2                      1                        2          1              1   \n",
       "3                      1                        2          1              1   \n",
       "4                      2                        2          1              1   \n",
       "\n",
       "  Class  ...  OtherInstallmentPlans.Bank  OtherInstallmentPlans.Stores  \\\n",
       "0  Good  ...                           0                             0   \n",
       "1   Bad  ...                           0                             0   \n",
       "2  Good  ...                           0                             0   \n",
       "3  Good  ...                           0                             0   \n",
       "4   Bad  ...                           0                             0   \n",
       "\n",
       "   OtherInstallmentPlans.None  Housing.Rent  Housing.Own  Housing.ForFree  \\\n",
       "0                           1             0            1                0   \n",
       "1                           1             0            1                0   \n",
       "2                           1             0            1                0   \n",
       "3                           1             0            0                1   \n",
       "4                           1             0            0                1   \n",
       "\n",
       "   Job.UnemployedUnskilled  Job.UnskilledResident  Job.SkilledEmployee  \\\n",
       "0                        0                      0                    1   \n",
       "1                        0                      0                    1   \n",
       "2                        0                      1                    0   \n",
       "3                        0                      0                    1   \n",
       "4                        0                      0                    1   \n",
       "\n",
       "   Job.Management.SelfEmp.HighlyQualified  \n",
       "0                                       0  \n",
       "1                                       0  \n",
       "2                                       0  \n",
       "3                                       0  \n",
       "4                                       0  \n",
       "\n",
       "[5 rows x 62 columns]"
      ]
     },
     "execution_count": 10,
     "metadata": {},
     "output_type": "execute_result"
    }
   ],
   "source": [
    "data.head()"
   ]
  },
  {
   "cell_type": "code",
   "execution_count": 11,
   "metadata": {},
   "outputs": [],
   "source": [
    "for i in data.index:\n",
    "    if(data.loc[i,'CheckingAccountStatus.lt.0']==1):\n",
    "        data.loc[i,'CheckingAccountStatus'] = 'lt.0'\n",
    "    elif(data.loc[i,'CheckingAccountStatus.0.to.200'] == 1):\n",
    "        data.loc[i,'CheckingAccountStatus'] = '0.to.200'\n",
    "    elif(data.loc[i,'CheckingAccountStatus.gt.200'] == 1):\n",
    "        data.loc[i,'CheckingAccountStatus'] = 'gt.200'\n",
    "    elif(data.loc[i,'CheckingAccountStatus.none'] == 1):\n",
    "        data.loc[i,'CheckingAccountStatus'] = 'none'\n",
    "    else:\n",
    "        data.loc[i,'CheckingAccountStatus'] = 0"
   ]
  },
  {
   "cell_type": "code",
   "execution_count": 12,
   "metadata": {},
   "outputs": [
    {
     "data": {
      "text/plain": [
       "none        394\n",
       "lt.0        274\n",
       "0.to.200    269\n",
       "gt.200       63\n",
       "Name: CheckingAccountStatus, dtype: int64"
      ]
     },
     "execution_count": 12,
     "metadata": {},
     "output_type": "execute_result"
    }
   ],
   "source": [
    "data['CheckingAccountStatus'].value_counts()"
   ]
  },
  {
   "cell_type": "code",
   "execution_count": 13,
   "metadata": {},
   "outputs": [
    {
     "name": "stdout",
     "output_type": "stream",
     "text": [
      "<class 'pandas.core.frame.DataFrame'>\n",
      "RangeIndex: 1000 entries, 0 to 999\n",
      "Data columns (total 63 columns):\n",
      "Duration                                  1000 non-null int64\n",
      "Amount                                    1000 non-null int64\n",
      "InstallmentRatePercentage                 1000 non-null int64\n",
      "ResidenceDuration                         1000 non-null int64\n",
      "Age                                       1000 non-null int64\n",
      "NumberExistingCredits                     1000 non-null int64\n",
      "NumberPeopleMaintenance                   1000 non-null int64\n",
      "Telephone                                 1000 non-null int64\n",
      "ForeignWorker                             1000 non-null int64\n",
      "Class                                     1000 non-null object\n",
      "CheckingAccountStatus.lt.0                1000 non-null int64\n",
      "CheckingAccountStatus.0.to.200            1000 non-null int64\n",
      "CheckingAccountStatus.gt.200              1000 non-null int64\n",
      "CheckingAccountStatus.none                1000 non-null int64\n",
      "CreditHistory.NoCredit.AllPaid            1000 non-null int64\n",
      "CreditHistory.ThisBank.AllPaid            1000 non-null int64\n",
      "CreditHistory.PaidDuly                    1000 non-null int64\n",
      "CreditHistory.Delay                       1000 non-null int64\n",
      "CreditHistory.Critical                    1000 non-null int64\n",
      "Purpose.NewCar                            1000 non-null int64\n",
      "Purpose.UsedCar                           1000 non-null int64\n",
      "Purpose.Furniture.Equipment               1000 non-null int64\n",
      "Purpose.Radio.Television                  1000 non-null int64\n",
      "Purpose.DomesticAppliance                 1000 non-null int64\n",
      "Purpose.Repairs                           1000 non-null int64\n",
      "Purpose.Education                         1000 non-null int64\n",
      "Purpose.Vacation                          1000 non-null int64\n",
      "Purpose.Retraining                        1000 non-null int64\n",
      "Purpose.Business                          1000 non-null int64\n",
      "Purpose.Other                             1000 non-null int64\n",
      "SavingsAccountBonds.lt.100                1000 non-null int64\n",
      "SavingsAccountBonds.100.to.500            1000 non-null int64\n",
      "SavingsAccountBonds.500.to.1000           1000 non-null int64\n",
      "SavingsAccountBonds.gt.1000               1000 non-null int64\n",
      "SavingsAccountBonds.Unknown               1000 non-null int64\n",
      "EmploymentDuration.lt.1                   1000 non-null int64\n",
      "EmploymentDuration.1.to.4                 1000 non-null int64\n",
      "EmploymentDuration.4.to.7                 1000 non-null int64\n",
      "EmploymentDuration.gt.7                   1000 non-null int64\n",
      "EmploymentDuration.Unemployed             1000 non-null int64\n",
      "Personal.Male.Divorced.Seperated          1000 non-null int64\n",
      "Personal.Female.NotSingle                 1000 non-null int64\n",
      "Personal.Male.Single                      1000 non-null int64\n",
      "Personal.Male.Married.Widowed             1000 non-null int64\n",
      "Personal.Female.Single                    1000 non-null int64\n",
      "OtherDebtorsGuarantors.None               1000 non-null int64\n",
      "OtherDebtorsGuarantors.CoApplicant        1000 non-null int64\n",
      "OtherDebtorsGuarantors.Guarantor          1000 non-null int64\n",
      "Property.RealEstate                       1000 non-null int64\n",
      "Property.Insurance                        1000 non-null int64\n",
      "Property.CarOther                         1000 non-null int64\n",
      "Property.Unknown                          1000 non-null int64\n",
      "OtherInstallmentPlans.Bank                1000 non-null int64\n",
      "OtherInstallmentPlans.Stores              1000 non-null int64\n",
      "OtherInstallmentPlans.None                1000 non-null int64\n",
      "Housing.Rent                              1000 non-null int64\n",
      "Housing.Own                               1000 non-null int64\n",
      "Housing.ForFree                           1000 non-null int64\n",
      "Job.UnemployedUnskilled                   1000 non-null int64\n",
      "Job.UnskilledResident                     1000 non-null int64\n",
      "Job.SkilledEmployee                       1000 non-null int64\n",
      "Job.Management.SelfEmp.HighlyQualified    1000 non-null int64\n",
      "CheckingAccountStatus                     1000 non-null object\n",
      "dtypes: int64(61), object(2)\n",
      "memory usage: 492.3+ KB\n"
     ]
    }
   ],
   "source": [
    "data.info()"
   ]
  },
  {
   "cell_type": "code",
   "execution_count": 14,
   "metadata": {},
   "outputs": [],
   "source": [
    "for i in data.index:\n",
    "    for column in data[['CreditHistory.NoCredit.AllPaid','CreditHistory.ThisBank.AllPaid','CreditHistory.PaidDuly','CreditHistory.Delay','CreditHistory.Critical']]:\n",
    "        if(data.loc[i,column]==1):\n",
    "            data.loc[i,'CreditHistory']=column.split('.',1)[1]"
   ]
  },
  {
   "cell_type": "code",
   "execution_count": 15,
   "metadata": {},
   "outputs": [
    {
     "name": "stdout",
     "output_type": "stream",
     "text": [
      "0    707\n",
      "1    293\n",
      "Name: CreditHistory.Critical, dtype: int64\n",
      "0    951\n",
      "1     49\n",
      "Name: CreditHistory.ThisBank.AllPaid, dtype: int64\n"
     ]
    }
   ],
   "source": [
    "print(data['CreditHistory.Critical'].value_counts())\n",
    "print(data['CreditHistory.ThisBank.AllPaid'].value_counts())"
   ]
  },
  {
   "cell_type": "code",
   "execution_count": 16,
   "metadata": {},
   "outputs": [
    {
     "data": {
      "text/plain": [
       "PaidDuly            530\n",
       "Critical            293\n",
       "Delay                88\n",
       "ThisBank.AllPaid     49\n",
       "NoCredit.AllPaid     40\n",
       "Name: CreditHistory, dtype: int64"
      ]
     },
     "execution_count": 16,
     "metadata": {},
     "output_type": "execute_result"
    }
   ],
   "source": [
    "data['CreditHistory'].value_counts()"
   ]
  },
  {
   "cell_type": "code",
   "execution_count": 17,
   "metadata": {},
   "outputs": [
    {
     "data": {
      "text/plain": [
       "['Duration',\n",
       " 'Amount',\n",
       " 'InstallmentRatePercentage',\n",
       " 'ResidenceDuration',\n",
       " 'Age',\n",
       " 'NumberExistingCredits',\n",
       " 'NumberPeopleMaintenance',\n",
       " 'Telephone',\n",
       " 'ForeignWorker',\n",
       " 'Class',\n",
       " 'CheckingAccountStatus.lt.0',\n",
       " 'CheckingAccountStatus.0.to.200',\n",
       " 'CheckingAccountStatus.gt.200',\n",
       " 'CheckingAccountStatus.none',\n",
       " 'CreditHistory.NoCredit.AllPaid',\n",
       " 'CreditHistory.ThisBank.AllPaid',\n",
       " 'CreditHistory.PaidDuly',\n",
       " 'CreditHistory.Delay',\n",
       " 'CreditHistory.Critical',\n",
       " 'Purpose.NewCar',\n",
       " 'Purpose.UsedCar',\n",
       " 'Purpose.Furniture.Equipment',\n",
       " 'Purpose.Radio.Television',\n",
       " 'Purpose.DomesticAppliance',\n",
       " 'Purpose.Repairs',\n",
       " 'Purpose.Education',\n",
       " 'Purpose.Vacation',\n",
       " 'Purpose.Retraining',\n",
       " 'Purpose.Business',\n",
       " 'Purpose.Other',\n",
       " 'SavingsAccountBonds.lt.100',\n",
       " 'SavingsAccountBonds.100.to.500',\n",
       " 'SavingsAccountBonds.500.to.1000',\n",
       " 'SavingsAccountBonds.gt.1000',\n",
       " 'SavingsAccountBonds.Unknown',\n",
       " 'EmploymentDuration.lt.1',\n",
       " 'EmploymentDuration.1.to.4',\n",
       " 'EmploymentDuration.4.to.7',\n",
       " 'EmploymentDuration.gt.7',\n",
       " 'EmploymentDuration.Unemployed',\n",
       " 'Personal.Male.Divorced.Seperated',\n",
       " 'Personal.Female.NotSingle',\n",
       " 'Personal.Male.Single',\n",
       " 'Personal.Male.Married.Widowed',\n",
       " 'Personal.Female.Single',\n",
       " 'OtherDebtorsGuarantors.None',\n",
       " 'OtherDebtorsGuarantors.CoApplicant',\n",
       " 'OtherDebtorsGuarantors.Guarantor',\n",
       " 'Property.RealEstate',\n",
       " 'Property.Insurance',\n",
       " 'Property.CarOther',\n",
       " 'Property.Unknown',\n",
       " 'OtherInstallmentPlans.Bank',\n",
       " 'OtherInstallmentPlans.Stores',\n",
       " 'OtherInstallmentPlans.None',\n",
       " 'Housing.Rent',\n",
       " 'Housing.Own',\n",
       " 'Housing.ForFree',\n",
       " 'Job.UnemployedUnskilled',\n",
       " 'Job.UnskilledResident',\n",
       " 'Job.SkilledEmployee',\n",
       " 'Job.Management.SelfEmp.HighlyQualified',\n",
       " 'CheckingAccountStatus',\n",
       " 'CreditHistory']"
      ]
     },
     "execution_count": 17,
     "metadata": {},
     "output_type": "execute_result"
    }
   ],
   "source": [
    "list(data)"
   ]
  },
  {
   "cell_type": "code",
   "execution_count": 18,
   "metadata": {},
   "outputs": [],
   "source": [
    "for i in data.index:\n",
    "    for column in data[['Purpose.NewCar','Purpose.UsedCar','Purpose.Furniture.Equipment','Purpose.Radio.Television','Purpose.DomesticAppliance','Purpose.Repairs','Purpose.Education','Purpose.Vacation','Purpose.Retraining','Purpose.Business','Purpose.Other']]:\n",
    "            if(data.loc[i,column]==1):\n",
    "                data.loc[i,'Purpose']=column.split('.',1)[1]"
   ]
  },
  {
   "cell_type": "code",
   "execution_count": 19,
   "metadata": {},
   "outputs": [
    {
     "data": {
      "text/plain": [
       "Radio.Television       280\n",
       "NewCar                 234\n",
       "Furniture.Equipment    181\n",
       "UsedCar                103\n",
       "Business                97\n",
       "Education               50\n",
       "Repairs                 22\n",
       "DomesticAppliance       12\n",
       "Other                   12\n",
       "Retraining               9\n",
       "Name: Purpose, dtype: int64"
      ]
     },
     "execution_count": 19,
     "metadata": {},
     "output_type": "execute_result"
    }
   ],
   "source": [
    "data['Purpose'].value_counts()"
   ]
  },
  {
   "cell_type": "code",
   "execution_count": 20,
   "metadata": {},
   "outputs": [
    {
     "name": "stdout",
     "output_type": "stream",
     "text": [
      "0    720\n",
      "1    280\n",
      "Name: Purpose.Radio.Television, dtype: int64\n"
     ]
    }
   ],
   "source": [
    "print(data['Purpose.Radio.Television'].value_counts())"
   ]
  },
  {
   "cell_type": "code",
   "execution_count": 21,
   "metadata": {},
   "outputs": [],
   "source": [
    "for i in data.index:\n",
    "    for column in data[['SavingsAccountBonds.lt.100','SavingsAccountBonds.100.to.500','SavingsAccountBonds.500.to.1000','SavingsAccountBonds.gt.1000','SavingsAccountBonds.Unknown']]:\n",
    "        if(data.loc[i,column]==1):\n",
    "                data.loc[i,'SavingsAccountBonds']=column.split('.',1)[1]"
   ]
  },
  {
   "cell_type": "code",
   "execution_count": 22,
   "metadata": {},
   "outputs": [
    {
     "data": {
      "text/plain": [
       "lt.100         603\n",
       "Unknown        183\n",
       "100.to.500     103\n",
       "500.to.1000     63\n",
       "gt.1000         48\n",
       "Name: SavingsAccountBonds, dtype: int64"
      ]
     },
     "execution_count": 22,
     "metadata": {},
     "output_type": "execute_result"
    }
   ],
   "source": [
    "data['SavingsAccountBonds'].value_counts()"
   ]
  },
  {
   "cell_type": "code",
   "execution_count": 23,
   "metadata": {},
   "outputs": [],
   "source": [
    "for i in data.index:\n",
    "    for column in data[['EmploymentDuration.lt.1','EmploymentDuration.1.to.4','EmploymentDuration.4.to.7','EmploymentDuration.gt.7','EmploymentDuration.Unemployed']]:\n",
    "        if(data.loc[i,column]==1):\n",
    "            data.loc[i,'EmploymentDuration']=column.split('.',1)[1]\n",
    "\n",
    "for i in data.index:\n",
    "    for column in data[['OtherDebtorsGuarantors.None','OtherDebtorsGuarantors.CoApplicant','OtherDebtorsGuarantors.Guarantor']]:\n",
    "        if(data.loc[i,column]==1):\n",
    "            data.loc[i,'OtherDebtorsGuarantors']=column.split('.',1)[1]\n",
    "\n",
    "for i in data.index:\n",
    "    for column in data[['Property.RealEstate','Property.Insurance', 'Property.CarOther', 'Property.Unknown']]:\n",
    "        if(data.loc[i,column]==1):\n",
    "            data.loc[i,'Property']=column.split('.',1)[1]\n",
    "                \n",
    "for i in data.index:\n",
    "    for column in data[['OtherInstallmentPlans.Bank', 'OtherInstallmentPlans.Stores','OtherInstallmentPlans.None']]:\n",
    "        if(data.loc[i,column]==1):\n",
    "            data.loc[i,'OtherInstallmentPlans']=column.split('.',1)[1]\n",
    "                \n",
    "for i in data.index:\n",
    "    for column in data[['Housing.Rent', 'Housing.Own','Housing.ForFree']]:\n",
    "        if(data.loc[i,column]==1):\n",
    "            data.loc[i,'Housing']=column.split('.',1)[1]\n",
    "        \n",
    "for i in data.index:\n",
    "    for column in data[['Job.UnemployedUnskilled', 'Job.UnskilledResident','Job.SkilledEmployee', 'Job.Management.SelfEmp.HighlyQualified']]:\n",
    "        if(data.loc[i,column]==1):\n",
    "            data.loc[i,'Job']=column.split('.',1)[1]\n",
    "        "
   ]
  },
  {
   "cell_type": "code",
   "execution_count": 24,
   "metadata": {},
   "outputs": [],
   "source": [
    "for i in data.index:\n",
    "    for column in data[['Personal.Male.Divorced.Seperated', 'Personal.Female.NotSingle','Personal.Male.Single', 'Personal.Male.Married.Widowed','Personal.Female.Single']]:\n",
    "        if(data.loc[i,column]==1):\n",
    "            data.loc[i,'Sex']=column.split('.',2)[1]\n",
    "            \n",
    "for i in data.index:\n",
    "    for column in data[['Personal.Male.Divorced.Seperated', 'Personal.Female.NotSingle','Personal.Male.Single', 'Personal.Male.Married.Widowed','Personal.Female.Single']]:\n",
    "        if(data.loc[i,column]==1):\n",
    "            data.loc[i,'Marital status']=column.split('.',2)[2]"
   ]
  },
  {
   "cell_type": "code",
   "execution_count": 25,
   "metadata": {},
   "outputs": [
    {
     "name": "stdout",
     "output_type": "stream",
     "text": [
      "(1000, 74)\n",
      "(1000, 62)\n"
     ]
    }
   ],
   "source": [
    "print(data.shape)\n",
    "print(Odata.shape)"
   ]
  },
  {
   "cell_type": "code",
   "execution_count": 26,
   "metadata": {
    "scrolled": false
   },
   "outputs": [
    {
     "data": {
      "text/html": [
       "<div>\n",
       "<style scoped>\n",
       "    .dataframe tbody tr th:only-of-type {\n",
       "        vertical-align: middle;\n",
       "    }\n",
       "\n",
       "    .dataframe tbody tr th {\n",
       "        vertical-align: top;\n",
       "    }\n",
       "\n",
       "    .dataframe thead tr th {\n",
       "        text-align: left;\n",
       "    }\n",
       "\n",
       "    .dataframe thead tr:last-of-type th {\n",
       "        text-align: right;\n",
       "    }\n",
       "</style>\n",
       "<table border=\"1\" class=\"dataframe\">\n",
       "  <thead>\n",
       "    <tr>\n",
       "      <th>Job.SkilledEmployee</th>\n",
       "      <th colspan=\"2\" halign=\"left\">0</th>\n",
       "      <th>1</th>\n",
       "    </tr>\n",
       "    <tr>\n",
       "      <th>Job.UnskilledResident</th>\n",
       "      <th>0</th>\n",
       "      <th>1</th>\n",
       "      <th>0</th>\n",
       "    </tr>\n",
       "    <tr>\n",
       "      <th>Job</th>\n",
       "      <th></th>\n",
       "      <th></th>\n",
       "      <th></th>\n",
       "    </tr>\n",
       "  </thead>\n",
       "  <tbody>\n",
       "    <tr>\n",
       "      <th>Management.SelfEmp.HighlyQualified</th>\n",
       "      <td>148</td>\n",
       "      <td>0</td>\n",
       "      <td>0</td>\n",
       "    </tr>\n",
       "    <tr>\n",
       "      <th>SkilledEmployee</th>\n",
       "      <td>0</td>\n",
       "      <td>0</td>\n",
       "      <td>630</td>\n",
       "    </tr>\n",
       "    <tr>\n",
       "      <th>UnemployedUnskilled</th>\n",
       "      <td>22</td>\n",
       "      <td>0</td>\n",
       "      <td>0</td>\n",
       "    </tr>\n",
       "    <tr>\n",
       "      <th>UnskilledResident</th>\n",
       "      <td>0</td>\n",
       "      <td>200</td>\n",
       "      <td>0</td>\n",
       "    </tr>\n",
       "  </tbody>\n",
       "</table>\n",
       "</div>"
      ],
      "text/plain": [
       "Job.SkilledEmployee                   0         1\n",
       "Job.UnskilledResident                 0    1    0\n",
       "Job                                              \n",
       "Management.SelfEmp.HighlyQualified  148    0    0\n",
       "SkilledEmployee                       0    0  630\n",
       "UnemployedUnskilled                  22    0    0\n",
       "UnskilledResident                     0  200    0"
      ]
     },
     "execution_count": 26,
     "metadata": {},
     "output_type": "execute_result"
    }
   ],
   "source": [
    "pd.crosstab(data.Job,[data['Job.SkilledEmployee'],data['Job.UnskilledResident']])"
   ]
  },
  {
   "cell_type": "code",
   "execution_count": 42,
   "metadata": {},
   "outputs": [
    {
     "data": {
      "image/png": "[encoded data removed]",
      "text/plain": [
       "<Figure size 432x288 with 1 Axes>"
      ]
     },
     "metadata": {
      "needs_background": "light"
     },
     "output_type": "display_data"
    }
   ],
   "source": [
    "data.Class.value_counts().plot(kind='bar')\n",
    "plt.legend()\n",
    "plt.show()"
   ]
  },
  {
   "cell_type": "code",
   "execution_count": 62,
   "metadata": {},
   "outputs": [
    {
     "data": {
      "image/png": "[encoded data removed]",
      "text/plain": [
       "<Figure size 432x288 with 1 Axes>"
      ]
     },
     "metadata": {
      "needs_background": "light"
     },
     "output_type": "display_data"
    }
   ],
   "source": [
    "xpos = np.arange(data.Class.nunique())\n",
    "\n",
    "plt.xticks(xpos,data.Class.unique())\n",
    "\n",
    "plt.bar(xpos,data.Class.value_counts())\n",
    "plt.xlabel('Type of customers')\n",
    "plt.ylabel('No.of customers')\n",
    "plt.title('No.of customers in each type')\n",
    "plt.show()"
   ]
  },
  {
   "cell_type": "code",
   "execution_count": 75,
   "metadata": {},
   "outputs": [
    {
     "data": {
      "text/plain": [
       "<matplotlib.axes._subplots.AxesSubplot at 0xb5c9048>"
      ]
     },
     "execution_count": 75,
     "metadata": {},
     "output_type": "execute_result"
    },
    {
     "data": {
      "image/png": "[encoded data removed]",
      "text/plain": [
       "<Figure size 432x288 with 1 Axes>"
      ]
     },
     "metadata": {
      "needs_background": "light"
     },
     "output_type": "display_data"
    }
   ],
   "source": [
    "data.Job.value_counts().plot(kind='bar')"
   ]
  },
  {
   "cell_type": "code",
   "execution_count": 86,
   "metadata": {},
   "outputs": [
    {
     "data": {
      "image/png": "[encoded data removed]",
      "text/plain": [
       "<Figure size 432x288 with 1 Axes>"
      ]
     },
     "metadata": {
      "needs_background": "light"
     },
     "output_type": "display_data"
    }
   ],
   "source": [
    "xpos = np.arange(data.Job.nunique())\n",
    "\n",
    "plt.bar(xpos-0.2,data[data.Class=='Good'].Job.value_counts(),width = 0.4,label = 'Good')\n",
    "plt.bar(xpos+0.2,data[data.Class=='Bad'].Job.value_counts(),width = 0.4,label = 'Bad')\n",
    "plt.legend()\n",
    "plt.xticks(xpos,data.Job.unique(),rotation = 90)\n",
    "plt.grid()\n",
    "plt.ylabel('No.of customers')\n",
    "plt.show()"
   ]
  },
  {
   "cell_type": "code",
   "execution_count": 93,
   "metadata": {},
   "outputs": [
    {
     "data": {
      "image/png": "[encoded data removed]",
      "text/plain": [
       "<Figure size 432x288 with 1 Axes>"
      ]
     },
     "metadata": {
      "needs_background": "light"
     },
     "output_type": "display_data"
    },
    {
     "data": {
      "image/png": "[encoded data removed]",
      "text/plain": [
       "<Figure size 432x288 with 1 Axes>"
      ]
     },
     "metadata": {
      "needs_background": "light"
     },
     "output_type": "display_data"
    }
   ],
   "source": [
    "plt.subplot(211)\n",
    "plt.bar(xpos,data.Job.value_counts())\n",
    "plt.xticks(xpos,data.Job.unique(),rotation = 90)\n",
    "plt.title('No.of customers with different skills')\n",
    "plt.ylabel('No.of customers')\n",
    "plt.show()\n",
    "\n",
    "plt.subplot(212)\n",
    "plt.bar(xpos-0.2,data[data.Class=='Good'].Job.value_counts(),width = 0.4,label = 'Good')\n",
    "plt.bar(xpos+0.2,data[data.Class=='Bad'].Job.value_counts(),width = 0.4,label = 'Bad')\n",
    "plt.legend()\n",
    "plt.xticks(xpos,data.Job.unique(),rotation = 90)\n",
    "plt.title('Good vs Bad customers with different skills')\n",
    "plt.ylabel('No.of customers')\n",
    "plt.show()"
   ]
  },
  {
   "cell_type": "code",
   "execution_count": null,
   "metadata": {},
   "outputs": [],
   "source": []
  }
 ],
 "metadata": {
  "kernelspec": {
   "display_name": "Python 3",
   "language": "python",
   "name": "python3"
  },
  "language_info": {
   "codemirror_mode": {
    "name": "ipython",
    "version": 3
   },
   "file_extension": ".py",
   "mimetype": "text/x-python",
   "name": "python",
   "nbconvert_exporter": "python",
   "pygments_lexer": "ipython3",
   "version": "3.7.3"
  }
 },
 "nbformat": 4,
 "nbformat_minor": 2
}
